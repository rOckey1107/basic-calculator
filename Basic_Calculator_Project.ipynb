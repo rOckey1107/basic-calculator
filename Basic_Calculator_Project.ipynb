{
 "cells": [
  {
   "cell_type": "code",
   "execution_count": 31,
   "id": "b6c11997-41ef-4d1d-af8d-6af0e5c89d96",
   "metadata": {},
   "outputs": [],
   "source": [
    "with open(\"art.py\", \"w\") as file:\n",
    "    file.write(\"\"\"\n",
    "    # Your ASCII art code goes here\n",
    "    # Example:\n",
    "    print(\"Welcome to the Calculator!\")\n",
    "    \"\"\")"
   ]
  },
  {
   "cell_type": "code",
   "execution_count": 32,
   "id": "e2f32ee7-9646-4215-9fc6-95dd7a2e21c4",
   "metadata": {},
   "outputs": [],
   "source": [
    "with open(\"calci.py\", \"w\") as file:\n",
    "    file.write(\"\"\"\n",
    "    # Your calculator code goes here\n",
    "    def add(x, y):\n",
    "        return x + y\n",
    "\n",
    "    def subtract(x, y):\n",
    "        return x - y\n",
    "\n",
    "    def multiply(x, y):\n",
    "        return x * y\n",
    "\n",
    "    def divide(x, y):\n",
    "        return x / y\n",
    "    \"\"\")\n"
   ]
  },
  {
   "cell_type": "code",
   "execution_count": 27,
   "id": "52bb352c-1cd7-4237-afcd-f56bb83214c7",
   "metadata": {},
   "outputs": [],
   "source": [
    "import art\n",
    "import calci"
   ]
  },
  {
   "cell_type": "code",
   "execution_count": 30,
   "id": "8466e3c0-e796-4f5f-9266-a10286cbb118",
   "metadata": {
    "scrolled": true
   },
   "outputs": [
    {
     "name": "stdout",
     "output_type": "stream",
     "text": [
      "\n",
      "_____________________\n",
      "|  _________________  |\n",
      "| | Python Rocks!   | |\n",
      "| |_________________| |\n",
      "|  ___ ___ ___   ___  |\n",
      "| | 7 | 8 | 9 | | + | |\n",
      "| |___|___|___| |___| |\n",
      "| | 4 | 5 | 6 | | - | |\n",
      "| |___|___|___| |___| |\n",
      "| | 1 | 2 | 3 | | x | |\n",
      "| |___|___|___| |___| |\n",
      "| | . | 0 | = | | / | |\n",
      "| |___|___|___| |___| |\n",
      "|_____________________|\n",
      "\n",
      "\n",
      "           _            _       _             \n",
      "          | |          | |     | |            \n",
      "  ___ __ _| | ___ _   _| | __ _| |_ ___  _ __ \n",
      " / __/ _` | |/ __| | | | |/ _` | __/ _ \\| '__|\n",
      "| (_| (_| | | (__| |_| | | (_| | || (_) | |   \n",
      " \\___\\__,_|_|\\___|\\__,_|_|\\__,_|\\__\\___/|_|   \n",
      "\n",
      "\n"
     ]
    },
    {
     "name": "stdin",
     "output_type": "stream",
     "text": [
      "enter the 1st number : 5\n"
     ]
    },
    {
     "name": "stdout",
     "output_type": "stream",
     "text": [
      "+\n",
      "-\n",
      "*\n",
      "/\n"
     ]
    },
    {
     "name": "stdin",
     "output_type": "stream",
     "text": [
      "pick an operation from  above :  +\n",
      "enter the 2nd number : 5\n"
     ]
    },
    {
     "name": "stdout",
     "output_type": "stream",
     "text": [
      "5.0 + 5.0 = 10.0\n"
     ]
    },
    {
     "name": "stdin",
     "output_type": "stream",
     "text": [
      "type 'y' to continue with 10.0 or type 'n' to start a new calculation: \n",
      " y\n"
     ]
    },
    {
     "name": "stdout",
     "output_type": "stream",
     "text": [
      "+\n",
      "-\n",
      "*\n",
      "/\n"
     ]
    },
    {
     "name": "stdin",
     "output_type": "stream",
     "text": [
      "pick an operation from  above :  +\n",
      "enter the 2nd number : 5\n"
     ]
    },
    {
     "name": "stdout",
     "output_type": "stream",
     "text": [
      "10.0 + 5.0 = 15.0\n"
     ]
    },
    {
     "name": "stdin",
     "output_type": "stream",
     "text": [
      "type 'y' to continue with 15.0 or type 'n' to start a new calculation: \n",
      " n\n"
     ]
    },
    {
     "name": "stdout",
     "output_type": "stream",
     "text": [
      "\n",
      "\n",
      "\n",
      "\n",
      "\n",
      "\n",
      "\n",
      "\n",
      "\n",
      "\n",
      "\n",
      "\n",
      "\n",
      "\n",
      "\n",
      "\n",
      "\n",
      "\n",
      "\n",
      "\n",
      "\n",
      "\n",
      "_____________________\n",
      "|  _________________  |\n",
      "| | Python Rocks!   | |\n",
      "| |_________________| |\n",
      "|  ___ ___ ___   ___  |\n",
      "| | 7 | 8 | 9 | | + | |\n",
      "| |___|___|___| |___| |\n",
      "| | 4 | 5 | 6 | | - | |\n",
      "| |___|___|___| |___| |\n",
      "| | 1 | 2 | 3 | | x | |\n",
      "| |___|___|___| |___| |\n",
      "| | . | 0 | = | | / | |\n",
      "| |___|___|___| |___| |\n",
      "|_____________________|\n",
      "\n",
      "\n",
      "           _            _       _             \n",
      "          | |          | |     | |            \n",
      "  ___ __ _| | ___ _   _| | __ _| |_ ___  _ __ \n",
      " / __/ _` | |/ __| | | | |/ _` | __/ _ \\| '__|\n",
      "| (_| (_| | | (__| |_| | | (_| | || (_) | |   \n",
      " \\___\\__,_|_|\\___|\\__,_|_|\\__,_|\\__\\___/|_|   \n",
      "\n",
      "\n"
     ]
    },
    {
     "ename": "KeyboardInterrupt",
     "evalue": "Interrupted by user",
     "output_type": "error",
     "traceback": [
      "\u001b[1;31m---------------------------------------------------------------------------\u001b[0m",
      "\u001b[1;31mKeyboardInterrupt\u001b[0m                         Traceback (most recent call last)",
      "Cell \u001b[1;32mIn[30], line 43\u001b[0m\n\u001b[0;32m     39\u001b[0m             \u001b[38;5;28mprint\u001b[39m(\u001b[38;5;124m\"\u001b[39m\u001b[38;5;130;01m\\n\u001b[39;00m\u001b[38;5;124m\"\u001b[39m \u001b[38;5;241m*\u001b[39m \u001b[38;5;241m20\u001b[39m)\n\u001b[0;32m     40\u001b[0m             calculator()\n\u001b[1;32m---> 43\u001b[0m \u001b[43mcalculator\u001b[49m\u001b[43m(\u001b[49m\u001b[43m)\u001b[49m            \n",
      "Cell \u001b[1;32mIn[30], line 40\u001b[0m, in \u001b[0;36mcalculator\u001b[1;34m()\u001b[0m\n\u001b[0;32m     38\u001b[0m condition \u001b[38;5;241m=\u001b[39m \u001b[38;5;28;01mFalse\u001b[39;00m\n\u001b[0;32m     39\u001b[0m \u001b[38;5;28mprint\u001b[39m(\u001b[38;5;124m\"\u001b[39m\u001b[38;5;130;01m\\n\u001b[39;00m\u001b[38;5;124m\"\u001b[39m \u001b[38;5;241m*\u001b[39m \u001b[38;5;241m20\u001b[39m)\n\u001b[1;32m---> 40\u001b[0m \u001b[43mcalculator\u001b[49m\u001b[43m(\u001b[49m\u001b[43m)\u001b[49m\n",
      "Cell \u001b[1;32mIn[30], line 21\u001b[0m, in \u001b[0;36mcalculator\u001b[1;34m()\u001b[0m\n\u001b[0;32m     19\u001b[0m \u001b[38;5;28mprint\u001b[39m(calci\u001b[38;5;241m.\u001b[39mlogo)\n\u001b[0;32m     20\u001b[0m condition \u001b[38;5;241m=\u001b[39m \u001b[38;5;28;01mTrue\u001b[39;00m\n\u001b[1;32m---> 21\u001b[0m num1 \u001b[38;5;241m=\u001b[39m \u001b[38;5;28mfloat\u001b[39m(\u001b[38;5;28;43minput\u001b[39;49m\u001b[43m(\u001b[49m\u001b[38;5;124;43m'\u001b[39;49m\u001b[38;5;124;43menter the 1st number :\u001b[39;49m\u001b[38;5;124;43m'\u001b[39;49m\u001b[43m)\u001b[49m)\n\u001b[0;32m     23\u001b[0m \u001b[38;5;28;01mwhile\u001b[39;00m condition:\n\u001b[0;32m     24\u001b[0m     \u001b[38;5;28;01mfor\u001b[39;00m symbol \u001b[38;5;129;01min\u001b[39;00m operations:\n",
      "File \u001b[1;32m~\\AppData\\Local\\Programs\\Python\\Python313\\Lib\\site-packages\\ipykernel\\kernelbase.py:1282\u001b[0m, in \u001b[0;36mKernel.raw_input\u001b[1;34m(self, prompt)\u001b[0m\n\u001b[0;32m   1280\u001b[0m     msg \u001b[38;5;241m=\u001b[39m \u001b[38;5;124m\"\u001b[39m\u001b[38;5;124mraw_input was called, but this frontend does not support input requests.\u001b[39m\u001b[38;5;124m\"\u001b[39m\n\u001b[0;32m   1281\u001b[0m     \u001b[38;5;28;01mraise\u001b[39;00m StdinNotImplementedError(msg)\n\u001b[1;32m-> 1282\u001b[0m \u001b[38;5;28;01mreturn\u001b[39;00m \u001b[38;5;28;43mself\u001b[39;49m\u001b[38;5;241;43m.\u001b[39;49m\u001b[43m_input_request\u001b[49m\u001b[43m(\u001b[49m\n\u001b[0;32m   1283\u001b[0m \u001b[43m    \u001b[49m\u001b[38;5;28;43mstr\u001b[39;49m\u001b[43m(\u001b[49m\u001b[43mprompt\u001b[49m\u001b[43m)\u001b[49m\u001b[43m,\u001b[49m\n\u001b[0;32m   1284\u001b[0m \u001b[43m    \u001b[49m\u001b[38;5;28;43mself\u001b[39;49m\u001b[38;5;241;43m.\u001b[39;49m\u001b[43m_parent_ident\u001b[49m\u001b[43m[\u001b[49m\u001b[38;5;124;43m\"\u001b[39;49m\u001b[38;5;124;43mshell\u001b[39;49m\u001b[38;5;124;43m\"\u001b[39;49m\u001b[43m]\u001b[49m\u001b[43m,\u001b[49m\n\u001b[0;32m   1285\u001b[0m \u001b[43m    \u001b[49m\u001b[38;5;28;43mself\u001b[39;49m\u001b[38;5;241;43m.\u001b[39;49m\u001b[43mget_parent\u001b[49m\u001b[43m(\u001b[49m\u001b[38;5;124;43m\"\u001b[39;49m\u001b[38;5;124;43mshell\u001b[39;49m\u001b[38;5;124;43m\"\u001b[39;49m\u001b[43m)\u001b[49m\u001b[43m,\u001b[49m\n\u001b[0;32m   1286\u001b[0m \u001b[43m    \u001b[49m\u001b[43mpassword\u001b[49m\u001b[38;5;241;43m=\u001b[39;49m\u001b[38;5;28;43;01mFalse\u001b[39;49;00m\u001b[43m,\u001b[49m\n\u001b[0;32m   1287\u001b[0m \u001b[43m\u001b[49m\u001b[43m)\u001b[49m\n",
      "File \u001b[1;32m~\\AppData\\Local\\Programs\\Python\\Python313\\Lib\\site-packages\\ipykernel\\kernelbase.py:1325\u001b[0m, in \u001b[0;36mKernel._input_request\u001b[1;34m(self, prompt, ident, parent, password)\u001b[0m\n\u001b[0;32m   1322\u001b[0m \u001b[38;5;28;01mexcept\u001b[39;00m \u001b[38;5;167;01mKeyboardInterrupt\u001b[39;00m:\n\u001b[0;32m   1323\u001b[0m     \u001b[38;5;66;03m# re-raise KeyboardInterrupt, to truncate traceback\u001b[39;00m\n\u001b[0;32m   1324\u001b[0m     msg \u001b[38;5;241m=\u001b[39m \u001b[38;5;124m\"\u001b[39m\u001b[38;5;124mInterrupted by user\u001b[39m\u001b[38;5;124m\"\u001b[39m\n\u001b[1;32m-> 1325\u001b[0m     \u001b[38;5;28;01mraise\u001b[39;00m \u001b[38;5;167;01mKeyboardInterrupt\u001b[39;00m(msg) \u001b[38;5;28;01mfrom\u001b[39;00m\u001b[38;5;250m \u001b[39m\u001b[38;5;28;01mNone\u001b[39;00m\n\u001b[0;32m   1326\u001b[0m \u001b[38;5;28;01mexcept\u001b[39;00m \u001b[38;5;167;01mException\u001b[39;00m:\n\u001b[0;32m   1327\u001b[0m     \u001b[38;5;28mself\u001b[39m\u001b[38;5;241m.\u001b[39mlog\u001b[38;5;241m.\u001b[39mwarning(\u001b[38;5;124m\"\u001b[39m\u001b[38;5;124mInvalid Message:\u001b[39m\u001b[38;5;124m\"\u001b[39m, exc_info\u001b[38;5;241m=\u001b[39m\u001b[38;5;28;01mTrue\u001b[39;00m)\n",
      "\u001b[1;31mKeyboardInterrupt\u001b[0m: Interrupted by user"
     ]
    }
   ],
   "source": [
    "def add(n1, n2):\n",
    "    return n1 + n2\n",
    "def subtract(n1, n2):\n",
    "    return n1 - n2\n",
    "def multiply(n1, n2):\n",
    "    return n1 * n2\n",
    "def divide(n1, n2):\n",
    "    return n1 / n2\n",
    "\n",
    "operations = {\n",
    "    '+' : add,\n",
    "    '-' : subtract,\n",
    "    '*' : multiply,\n",
    "    '/' : divide,\n",
    "}\n",
    "\n",
    "def calculator():\n",
    "    print(art.logo)\n",
    "    print(calci.logo)\n",
    "    condition = True\n",
    "    num1 = float(input('enter the 1st number :'))\n",
    "    \n",
    "    while condition:\n",
    "        for symbol in operations:\n",
    "            print(symbol)\n",
    "        operation_symbol = input('pick an operation from  above : ')\n",
    "        num2  = float(input('enter the 2nd number :'))\n",
    "        #print(operations[operation_symbol](num1, num2))\n",
    "        output = operations[operation_symbol](num1, num2)\n",
    "        print(f\"{num1} {operation_symbol} {num2} = {output}\")\n",
    "        \n",
    "        choice = input(f\"type 'y' to continue with {output} or type 'n' to start a new calculation: \\n\").lower()\n",
    "        \n",
    "        if choice == 'y':\n",
    "            num1 = output\n",
    "        else:\n",
    "            \n",
    "            condition = False\n",
    "            print(\"\\n\" * 20)\n",
    "            calculator()\n",
    "\n",
    "            \n",
    "calculator()            "
   ]
  },
  {
   "cell_type": "code",
   "execution_count": 34,
   "id": "3b307b2a-bc6c-4657-91ca-e26ca392990d",
   "metadata": {},
   "outputs": [
    {
     "name": "stdout",
     "output_type": "stream",
     "text": [
      " Volume in drive C is Windows\n",
      " Volume Serial Number is E26E-0A81\n",
      "\n",
      " Directory of C:\\Users\\MADHURI\n",
      "\n",
      "31-10-2025  17:21    <DIR>          .\n",
      "17-10-2022  12:08    <DIR>          ..\n",
      "11-03-2024  19:54               679 .bash_history\n",
      "18-06-2025  13:31    <DIR>          .cache\n",
      "11-11-2023  14:59    <DIR>          .designer\n",
      "11-03-2024  19:59               152 .gitconfig\n",
      "16-07-2023  22:10    <DIR>          .idlerc\n",
      "31-10-2025  16:58    <DIR>          .ipynb_checkpoints\n",
      "24-02-2025  12:15    <DIR>          .ipython\n",
      "18-06-2025  15:18    <DIR>          .jupyter\n",
      "11-03-2024  20:43                20 .lesshst\n",
      "30-05-2025  10:16    <DIR>          .matplotlib\n",
      "11-10-2022  19:09    <DIR>          .ms-ad\n",
      "01-04-2024  15:24               666 .node_repl_history\n",
      "24-03-2025  21:01    <DIR>          .th-client\n",
      "22-02-2024  18:29    <DIR>          .vscode\n",
      "17-06-2025  19:50            19,241 ai_based_scraping.ipynb\n",
      "18-06-2025  15:56               617 aPi_sCraping.ipynb\n",
      "18-06-2025  22:57    <DIR>          aPi_sCraping_MF_dAta\n",
      "31-10-2025  17:21               100 art.py\n",
      "31-10-2025  17:21            12,197 Basic_Calculator_Project.ipynb\n",
      "04-11-2022  21:08            92,417 battery-report.html\n",
      "31-10-2025  17:21               231 calci.py\n",
      "17-10-2022  12:12    <DIR>          Contacts\n",
      "05-06-2025  12:44         1,078,496 data.svg\n",
      "18-06-2025  22:56           313,848 dAtA_sCraping.ipynb\n",
      "10-06-2025  10:30         2,151,328 data_viz.ipynb\n",
      "25-02-2025  13:40    <DIR>          Documents\n",
      "31-10-2025  14:45    <DIR>          Downloads\n",
      "17-10-2022  12:12    <DIR>          Favorites\n",
      "25-02-2025  16:57                 0 first_project.ipynb\n",
      "09-06-2025  18:57            39,295 hist_mat.svg\n",
      "09-06-2025  18:59             1,103 hist_pandas.svg\n",
      "10-06-2025  09:41            53,297 hist_sns.svg\n",
      "18-06-2025  20:27             9,686 html_pArsing.ipynb\n",
      "17-10-2022  12:12    <DIR>          Links\n",
      "12-06-2025  22:36    <DIR>          madhu\n",
      "16-07-2024  22:06    <DIR>          Music\n",
      "25-02-2025  16:21                24 new.text\n",
      "25-02-2025  17:01               139 new.txt\n",
      "07-01-2023  15:51    <DIR>          OneDrive\n",
      "18-06-2025  22:12            11,161 output.csv\n",
      "10-06-2025  10:28       142,043,616 pairplot.svg\n",
      "06-07-2025  21:37             6,692 rF_sKill-1.ipynb\n",
      "06-07-2025  18:31            10,226 rF_sKill.ipynb\n",
      "07-07-2025  00:03            41,446 rF_sKill_-2.ipynb\n",
      "07-07-2025  12:21            13,132 rF_sKill_-3.ipynb\n",
      "17-10-2022  12:12    <DIR>          Saved Games\n",
      "10-06-2025  09:40             6,006 Scaler_1.ipynb\n",
      "02-06-2025  12:07            10,215 SCALER_1107.ipynb\n",
      "18-06-2025  15:07            15,813 sCraping_2025(1).ipynb\n",
      "18-06-2025  13:24             8,062 sCraping_2025.ipynb\n",
      "17-06-2025  18:21            68,622 screenshot.png.png\n",
      "05-06-2025  16:19             1,103 seaborn.svg\n",
      "09-10-2025  23:24    <DIR>          Searches\n",
      "25-02-2025  13:34            35,069 Second_project.ipynb\n",
      "10-07-2024  19:58           860,160 symbology-style.db\n",
      "25-02-2025  17:01            62,923 third_project.ipynb\n",
      "15-05-2025  15:19                23 thonny1.py\n",
      "16-05-2025  14:37               308 thonny2.py\n",
      "13-05-2025  10:08               617 Untitled.ipynb\n",
      "31-10-2025  16:56                 0 untitled.txt\n",
      "30-05-2025  10:34             2,953 Untitled1.ipynb\n",
      "30-05-2025  14:49         1,025,688 Untitled10.ipynb\n",
      "02-06-2025  13:16             9,895 Untitled11.ipynb\n",
      "02-06-2025  17:33             8,093 Untitled12.ipynb\n",
      "05-06-2025  11:46               337 Untitled13.ipynb\n",
      "18-06-2025  19:43               337 Untitled14.ipynb\n",
      "05-06-2025  11:54             6,758 Untitled15.ipynb\n",
      "06-07-2025  01:24             3,139 Untitled16.ipynb\n",
      "06-07-2025  20:31               337 Untitled18.ipynb\n",
      "30-05-2025  09:35               337 Untitled2.ipynb\n",
      "30-05-2025  10:34                72 Untitled3.ipynb\n",
      "30-05-2025  11:44             2,770 Untitled4.ipynb\n",
      "30-05-2025  13:57               337 Untitled5.ipynb\n",
      "30-05-2025  14:11         1,206,023 Untitled6.ipynb\n",
      "30-05-2025  14:18             2,124 Untitled7.ipynb\n",
      "30-05-2025  14:29         1,747,720 Untitled8.ipynb\n",
      "30-05-2025  14:34           547,811 Untitled9.ipynb\n",
      "11-11-2023  14:59            16,384 user-history.db\n",
      "10-11-2022  10:43    <DIR>          Videos\n",
      "18-06-2025  16:20            26,000 Vision_sCraping_2025(2).ipynb\n",
      "17-06-2025  18:12            13,688 wEb_sCraping.ipynb\n",
      "18-06-2025  15:47            49,970 wik.png\n",
      "18-06-2025  15:54           379,200 wiki.png\n",
      "31-10-2025  17:03    <DIR>          __pycache__\n",
      "              61 File(s)    152,018,703 bytes\n",
      "              25 Dir(s)  82,403,364,864 bytes free\n"
     ]
    }
   ],
   "source": [
    "!dir"
   ]
  },
  {
   "cell_type": "code",
   "execution_count": null,
   "id": "c4edd6ec-d365-4388-8607-ba46bdadad2d",
   "metadata": {},
   "outputs": [],
   "source": []
  },
  {
   "cell_type": "code",
   "execution_count": null,
   "id": "efb26893-fe26-4196-a257-0a11f9a88a93",
   "metadata": {},
   "outputs": [],
   "source": []
  }
 ],
 "metadata": {
  "kernelspec": {
   "display_name": "Python 3 (ipykernel)",
   "language": "python",
   "name": "python3"
  },
  "language_info": {
   "codemirror_mode": {
    "name": "ipython",
    "version": 3
   },
   "file_extension": ".py",
   "mimetype": "text/x-python",
   "name": "python",
   "nbconvert_exporter": "python",
   "pygments_lexer": "ipython3",
   "version": "3.13.2"
  }
 },
 "nbformat": 4,
 "nbformat_minor": 5
}
